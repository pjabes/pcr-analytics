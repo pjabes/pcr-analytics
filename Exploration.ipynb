{
 "cells": [
  {
   "cell_type": "code",
   "execution_count": 1,
   "metadata": {},
   "outputs": [],
   "source": [
    "import pandas as pd\n",
    "import numpy as np\n",
    "import matplotlib.pyplot as plt\n",
    "\n",
    "import plotly.plotly as py\n",
    "import plotlt.tool s as tls\n",
    "\n",
    "import os\n",
    "plt.rcParams['figure.figsize'] = [10,5]"
   ]
  },
  {
   "cell_type": "markdown",
   "metadata": {},
   "source": [
    "## Parsing Bro Conn Logs.\n",
    "This section involves the parsing of Bro Conn logs into a suitable Pandas' DataFrame.\n",
    "\n",
    "| Field  | Desc                          | Type  | \n",
    "|--------|-------------------------------|-------|\n",
    "| ts     | Unix Timestamp of connection  | datetime |\n",
    "| uid    |                               |\n",
    "\n",
    "#fields\tts\tuid\tid.orig_h\tid.orig_p\tid.resp_h\tid.resp_p\tproto\tservice\tduration\torig_bytes\tresp_bytes\tconn_state\tlocal_orig\tmissed_bytes\thistory\torig_pkts\torig_ip_bytes\tresp_pkts\tresp_ip_bytes\ttunnel_parents"
   ]
  },
  {
   "cell_type": "code",
   "execution_count": 2,
   "metadata": {},
   "outputs": [],
   "source": [
    "def parseBro(file):\n",
    "    \n",
    "    df = pd.read_csv(file, delimiter='\\t', skiprows=[0,1,2,3,4,5,6], skipfooter=1, engine='python')\n",
    "    \n",
    "    df.columns = ['ts','uid','id.orig_h','id.orig_p','id.resp_h','id.resp_p','proto','service','duration','orig_bytes','resp_bytes','conn_state',\n",
    "                  'local_orig','missed_bytes','history','orig_pkts','orig_ip_bytes','resp_pkts','resp_ip_bytes','tunnel_parents','delete']\n",
    "    \n",
    "    # Typecasting columns\n",
    "    df['ts'] = pd.to_datetime(df['ts'],unit='s')\n",
    "    \n",
    "    return df\n",
    "\n",
    "def generateDF(files):\n",
    "    \n",
    "    df = pd.DataFrame()\n",
    "    \n",
    "    for file in files:\n",
    "\n",
    "        df = pd.concat([df, parseBro('./datasets/a/' + str(file) + str('/conn.log'))])\n",
    "        \n",
    "    return df\n"
   ]
  },
  {
   "cell_type": "markdown",
   "metadata": {},
   "source": [
    "## Ingest Conn Logs"
   ]
  },
  {
   "cell_type": "code",
   "execution_count": 28,
   "metadata": {},
   "outputs": [
    {
     "data": {
      "text/html": [
       "<div>\n",
       "<style scoped>\n",
       "    .dataframe tbody tr th:only-of-type {\n",
       "        vertical-align: middle;\n",
       "    }\n",
       "\n",
       "    .dataframe tbody tr th {\n",
       "        vertical-align: top;\n",
       "    }\n",
       "\n",
       "    .dataframe thead th {\n",
       "        text-align: right;\n",
       "    }\n",
       "</style>\n",
       "<table border=\"1\" class=\"dataframe\">\n",
       "  <thead>\n",
       "    <tr style=\"text-align: right;\">\n",
       "      <th></th>\n",
       "      <th>ts</th>\n",
       "      <th>id.orig_h</th>\n",
       "      <th>id.resp_h</th>\n",
       "      <th>orig_ip_bytes</th>\n",
       "      <th>resp_ip_bytes</th>\n",
       "    </tr>\n",
       "  </thead>\n",
       "  <tbody>\n",
       "    <tr>\n",
       "      <th>0</th>\n",
       "      <td>2013-11-16 20:05:56.688096046</td>\n",
       "      <td>192.168.6.10</td>\n",
       "      <td>23.79.175.139</td>\n",
       "      <td>88</td>\n",
       "      <td>40</td>\n",
       "    </tr>\n",
       "    <tr>\n",
       "      <th>1</th>\n",
       "      <td>2013-11-16 20:05:55.560266972</td>\n",
       "      <td>192.168.6.10</td>\n",
       "      <td>108.59.13.146</td>\n",
       "      <td>590</td>\n",
       "      <td>4491</td>\n",
       "    </tr>\n",
       "    <tr>\n",
       "      <th>2</th>\n",
       "      <td>2013-11-16 20:05:56.009582996</td>\n",
       "      <td>192.168.6.10</td>\n",
       "      <td>108.59.13.146</td>\n",
       "      <td>572</td>\n",
       "      <td>576</td>\n",
       "    </tr>\n",
       "    <tr>\n",
       "      <th>3</th>\n",
       "      <td>2013-11-16 20:05:57.058163166</td>\n",
       "      <td>192.168.6.10</td>\n",
       "      <td>206.165.250.96</td>\n",
       "      <td>912</td>\n",
       "      <td>2062</td>\n",
       "    </tr>\n",
       "    <tr>\n",
       "      <th>4</th>\n",
       "      <td>2013-11-16 20:05:57.288841009</td>\n",
       "      <td>192.168.6.10</td>\n",
       "      <td>206.165.250.96</td>\n",
       "      <td>496</td>\n",
       "      <td>420</td>\n",
       "    </tr>\n",
       "  </tbody>\n",
       "</table>\n",
       "</div>"
      ],
      "text/plain": [
       "                             ts     id.orig_h       id.resp_h  orig_ip_bytes  \\\n",
       "0 2013-11-16 20:05:56.688096046  192.168.6.10   23.79.175.139             88   \n",
       "1 2013-11-16 20:05:55.560266972  192.168.6.10   108.59.13.146            590   \n",
       "2 2013-11-16 20:05:56.009582996  192.168.6.10   108.59.13.146            572   \n",
       "3 2013-11-16 20:05:57.058163166  192.168.6.10  206.165.250.96            912   \n",
       "4 2013-11-16 20:05:57.288841009  192.168.6.10  206.165.250.96            496   \n",
       "\n",
       "   resp_ip_bytes  \n",
       "0             40  \n",
       "1           4491  \n",
       "2            576  \n",
       "3           2062  \n",
       "4            420  "
      ]
     },
     "execution_count": 28,
     "metadata": {},
     "output_type": "execute_result"
    }
   ],
   "source": [
    "fileList = os.listdir(path='./datasets/a/')[40:100]\n",
    "\n",
    "df = generateDF(fileList)\n",
    "\n",
    "df = df[['ts', 'id.orig_h', 'id.resp_h', 'orig_ip_bytes', 'resp_ip_bytes']]\n",
    "\n",
    "df.head()"
   ]
  },
  {
   "cell_type": "markdown",
   "metadata": {},
   "source": [
    "## Calculating PCR Value"
   ]
  },
  {
   "cell_type": "code",
   "execution_count": 29,
   "metadata": {},
   "outputs": [
    {
     "data": {
      "text/html": [
       "<div>\n",
       "<style scoped>\n",
       "    .dataframe tbody tr th:only-of-type {\n",
       "        vertical-align: middle;\n",
       "    }\n",
       "\n",
       "    .dataframe tbody tr th {\n",
       "        vertical-align: top;\n",
       "    }\n",
       "\n",
       "    .dataframe thead th {\n",
       "        text-align: right;\n",
       "    }\n",
       "</style>\n",
       "<table border=\"1\" class=\"dataframe\">\n",
       "  <thead>\n",
       "    <tr style=\"text-align: right;\">\n",
       "      <th></th>\n",
       "      <th>orig_ip_bytes</th>\n",
       "      <th>resp_ip_bytes</th>\n",
       "      <th>PCR</th>\n",
       "    </tr>\n",
       "    <tr>\n",
       "      <th>id.orig_h</th>\n",
       "      <th></th>\n",
       "      <th></th>\n",
       "      <th></th>\n",
       "    </tr>\n",
       "  </thead>\n",
       "  <tbody>\n",
       "    <tr>\n",
       "      <th>0.0.0.0</th>\n",
       "      <td>40920</td>\n",
       "      <td>0</td>\n",
       "      <td>1.0</td>\n",
       "    </tr>\n",
       "    <tr>\n",
       "      <th>1.162.187.156</th>\n",
       "      <td>144</td>\n",
       "      <td>0</td>\n",
       "      <td>1.0</td>\n",
       "    </tr>\n",
       "    <tr>\n",
       "      <th>106.66.101.252</th>\n",
       "      <td>56</td>\n",
       "      <td>0</td>\n",
       "      <td>1.0</td>\n",
       "    </tr>\n",
       "    <tr>\n",
       "      <th>108.61.94.170</th>\n",
       "      <td>68</td>\n",
       "      <td>0</td>\n",
       "      <td>1.0</td>\n",
       "    </tr>\n",
       "    <tr>\n",
       "      <th>109.61.1.35</th>\n",
       "      <td>56</td>\n",
       "      <td>0</td>\n",
       "      <td>1.0</td>\n",
       "    </tr>\n",
       "  </tbody>\n",
       "</table>\n",
       "</div>"
      ],
      "text/plain": [
       "                orig_ip_bytes  resp_ip_bytes  PCR\n",
       "id.orig_h                                        \n",
       "0.0.0.0                 40920              0  1.0\n",
       "1.162.187.156             144              0  1.0\n",
       "106.66.101.252             56              0  1.0\n",
       "108.61.94.170              68              0  1.0\n",
       "109.61.1.35                56              0  1.0"
      ]
     },
     "execution_count": 29,
     "metadata": {},
     "output_type": "execute_result"
    }
   ],
   "source": [
    "df = df.groupby('id.orig_h').sum()\n",
    "\n",
    "df['PCR'] = (df['orig_ip_bytes'] - df['resp_ip_bytes'])/(df['orig_ip_bytes'] + df['resp_ip_bytes'])\n",
    "\n",
    "df.head()"
   ]
  },
  {
   "cell_type": "markdown",
   "metadata": {},
   "source": [
    "## Plotting Timeseries\n",
    "Plots the timeseries vs PCR values to visually inspect for trends."
   ]
  },
  {
   "cell_type": "code",
   "execution_count": 30,
   "metadata": {},
   "outputs": [
    {
     "data": {
      "text/plain": [
       "<matplotlib.axes._subplots.AxesSubplot at 0x11f283390>"
      ]
     },
     "execution_count": 30,
     "metadata": {},
     "output_type": "execute_result"
    },
    {
     "data": {
      "image/png": "[encoded data removed]",
      "text/plain": [
       "<Figure size 1080x720 with 1 Axes>"
      ]
     },
     "metadata": {
      "needs_background": "light"
     },
     "output_type": "display_data"
    }
   ],
   "source": [
    "df.plot.bar(y='PCR', figsize=(15,10), title=\"Producer/Consumer Ratio across IPs\")"
   ]
  }
 ],
 "metadata": {
  "kernelspec": {
   "display_name": "Python 3",
   "language": "python",
   "name": "python3"
  },
  "language_info": {
   "codemirror_mode": {
    "name": "ipython",
    "version": 3
   },
   "file_extension": ".py",
   "mimetype": "text/x-python",
   "name": "python",
   "nbconvert_exporter": "python",
   "pygments_lexer": "ipython3",
   "version": "3.6.5"
  }
 },
 "nbformat": 4,
 "nbformat_minor": 2
}
