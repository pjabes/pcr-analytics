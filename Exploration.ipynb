{
 "cells": [
  {
   "cell_type": "markdown",
   "metadata": {},
   "source": [
    "## Zeek/Bro Security Monitor\n",
    "\n",
    "Zeek (formerly Bro) is an open source Network Analysis and Security Monitoring tool.  It is able to collect details about the connections hosts are making within the network, in a similar way to NetFlow.  Unlike NetFlow, Zeek contains additional data which for the purpose of this analysis simplifies it.\n",
    "\n",
    "Datasets were gathered from from the [2012 Mid-Atlantic Collegiate Cyber Defense Competition](https://www.netresec.com/?page=MACCDC) and consist of Zeek's conn.log file.  \n",
    "\n",
    "## Notebook Scope\n",
    "This Notebook represents a proof-of-concept and explorative piece to understand the concepts behind the Producer/Consumer Ratio threat hunting technique. "
   ]
  },
  {
   "cell_type": "code",
   "execution_count": 34,
   "metadata": {},
   "outputs": [],
   "source": [
    "import os\n",
    "\n",
    "import pandas as pd\n",
    "import numpy as np\n",
    "import matplotlib.pyplot as plt"
   ]
  },
  {
   "cell_type": "markdown",
   "metadata": {},
   "source": [
    "## The Data\n",
    "\n",
    "For the exploration, data was gathered from the [2012 Mid-Atlantic Collegiate Cyber Defense Competition](https://www.netresec.com/?page=MACCDC) and consist of Zeek's conn.log file.  These files were stored within the directory of /datasets/ID/ where ID represents a detection time bucket. \n",
    "\n",
    "### Conn.log Schema\n",
    "| Field          | Desc                                                 | Type     | \n",
    "|----------------|------------------------------------------------------|----------|\n",
    "| ts             | Timestamp of connection                              | datetime |\n",
    "| uid            | Unique ID of connection                              | string   |\n",
    "| id.orig_h      | Originating connection's host IP address             | string   |\n",
    "| id.orig_p      | Originating connection's host port number            | integer  |\n",
    "| id.resp_h      | Responding connection's host IP address              | string   |\n",
    "| id.resp_p      | Responding connection's host port number             | integer  |\n",
    "| proto          | Transport layer protocol of connection               | string   |\n",
    "| service        | Dynamically detected application protocol, if any    | string   |\n",
    "| duration       | Length of time of the connection                     | float    |\n",
    "| orig_bytes     | Originators payload bytes                            | integer  |\n",
    "| resp_bytes     | Responder payload bytes                              | integer  |\n",
    "| conn_state     | Connection state                                     | string   |\n",
    "| local_orig     | If conn originated locally; T, if remotely F         | boolean  |\n",
    "| missed_bytes   | Number of missi9ng bytes in content gaps             | integer  |\n",
    "| history        | Connection state history                             | string   |\n",
    "| orig_pkts      | Number of orig packets                               | integer  |\n",
    "| orig_ip_bytes  | Number of Orig IP bytes                              | integer  |\n",
    "| resp_pkts      | Number of responding packets                         | integer  |\n",
    "| resp_ip_bytes  | Number of Resp IP bytes                              | integer  |\n",
    "| tunnel_parents | If tunneled, connection UID of encapsulating parents | string   |\n",
    "\n"
   ]
  },
  {
   "cell_type": "code",
   "execution_count": 70,
   "metadata": {},
   "outputs": [],
   "source": [
    "def parseBro(file):\n",
    "    \"\"\"This function converts a given conn.log into a Pandas DataFrame. \n",
    "    \"\"\"\n",
    "    \n",
    "    df = pd.read_csv(file, delimiter='\\t', skiprows=[0,1,2,3,4,5,6], skipfooter=1, engine='python')\n",
    "     \n",
    "    df.columns = ['ts','uid','id.orig_h','id.orig_p','id.resp_h','id.resp_p','proto','service','duration','orig_bytes','resp_bytes','conn_state',\n",
    "                  'local_orig','missed_bytes','history','orig_pkts','orig_ip_bytes','resp_pkts','resp_ip_bytes','tunnel_parents', 'delete']\n",
    "    \n",
    "    # Typecast the 'ts' column to be a datetime.\n",
    "    df['ts'] = pd.to_datetime(df['ts'],unit='s')\n",
    "    \n",
    "    return df\n",
    "\n",
    "def generateDF(files):\n",
    "    \"\"\"This function generates a single DataFrame from a collection of conn.logs\n",
    "    \"\"\"\n",
    "    \n",
    "    # Initialise an empty DataFrame.\n",
    "    df = pd.DataFrame()\n",
    "    \n",
    "    for file in files:\n",
    "        df = pd.concat([df, parseBro('./datasets/a/' + str(file) + str('/conn.log'))])\n",
    "        \n",
    "    return df\n",
    "\n",
    "fileList = os.listdir(path='./datasets/a/')[1:10]\n",
    "df = generateDF(fileList)\n",
    "df = df.loc[df['service'] == 'dns']\n",
    "df.head()"
   ]
  },
  {
   "cell_type": "markdown",
   "metadata": {},
   "source": [
    "## Calculating PCR Value"
   ]
  },
  {
   "cell_type": "code",
   "execution_count": 64,
   "metadata": {},
   "outputs": [
    {
     "data": {
      "text/html": [
       "<div>\n",
       "<style scoped>\n",
       "    .dataframe tbody tr th:only-of-type {\n",
       "        vertical-align: middle;\n",
       "    }\n",
       "\n",
       "    .dataframe tbody tr th {\n",
       "        vertical-align: top;\n",
       "    }\n",
       "\n",
       "    .dataframe thead th {\n",
       "        text-align: right;\n",
       "    }\n",
       "</style>\n",
       "<table border=\"1\" class=\"dataframe\">\n",
       "  <thead>\n",
       "    <tr style=\"text-align: right;\">\n",
       "      <th></th>\n",
       "      <th>id.orig_p</th>\n",
       "      <th>id.resp_p</th>\n",
       "      <th>missed_bytes</th>\n",
       "      <th>orig_pkts</th>\n",
       "      <th>orig_ip_bytes</th>\n",
       "      <th>resp_pkts</th>\n",
       "      <th>resp_ip_bytes</th>\n",
       "      <th>delete</th>\n",
       "      <th>PCR</th>\n",
       "    </tr>\n",
       "    <tr>\n",
       "      <th>id.orig_h</th>\n",
       "      <th></th>\n",
       "      <th></th>\n",
       "      <th></th>\n",
       "      <th></th>\n",
       "      <th></th>\n",
       "      <th></th>\n",
       "      <th></th>\n",
       "      <th></th>\n",
       "      <th></th>\n",
       "    </tr>\n",
       "  </thead>\n",
       "  <tbody>\n",
       "    <tr>\n",
       "      <th>192.168.1.10</th>\n",
       "      <td>20996</td>\n",
       "      <td>1060</td>\n",
       "      <td>0</td>\n",
       "      <td>86</td>\n",
       "      <td>5777</td>\n",
       "      <td>86</td>\n",
       "      <td>11720</td>\n",
       "      <td>0.0</td>\n",
       "      <td>-0.339658</td>\n",
       "    </tr>\n",
       "    <tr>\n",
       "      <th>192.168.10.10</th>\n",
       "      <td>34193</td>\n",
       "      <td>1696</td>\n",
       "      <td>0</td>\n",
       "      <td>218</td>\n",
       "      <td>13908</td>\n",
       "      <td>217</td>\n",
       "      <td>28425</td>\n",
       "      <td>0.0</td>\n",
       "      <td>-0.342924</td>\n",
       "    </tr>\n",
       "    <tr>\n",
       "      <th>192.168.100.10</th>\n",
       "      <td>74449</td>\n",
       "      <td>3710</td>\n",
       "      <td>0</td>\n",
       "      <td>213</td>\n",
       "      <td>13872</td>\n",
       "      <td>205</td>\n",
       "      <td>25392</td>\n",
       "      <td>0.0</td>\n",
       "      <td>-0.293399</td>\n",
       "    </tr>\n",
       "    <tr>\n",
       "      <th>192.168.101.10</th>\n",
       "      <td>38582</td>\n",
       "      <td>1961</td>\n",
       "      <td>0</td>\n",
       "      <td>141</td>\n",
       "      <td>9102</td>\n",
       "      <td>126</td>\n",
       "      <td>13967</td>\n",
       "      <td>0.0</td>\n",
       "      <td>-0.210889</td>\n",
       "    </tr>\n",
       "    <tr>\n",
       "      <th>192.168.102.10</th>\n",
       "      <td>29046</td>\n",
       "      <td>1484</td>\n",
       "      <td>0</td>\n",
       "      <td>149</td>\n",
       "      <td>9540</td>\n",
       "      <td>149</td>\n",
       "      <td>19689</td>\n",
       "      <td>0.0</td>\n",
       "      <td>-0.347224</td>\n",
       "    </tr>\n",
       "  </tbody>\n",
       "</table>\n",
       "</div>"
      ],
      "text/plain": [
       "                id.orig_p  id.resp_p  missed_bytes  orig_pkts  orig_ip_bytes  \\\n",
       "id.orig_h                                                                      \n",
       "192.168.1.10        20996       1060             0         86           5777   \n",
       "192.168.10.10       34193       1696             0        218          13908   \n",
       "192.168.100.10      74449       3710             0        213          13872   \n",
       "192.168.101.10      38582       1961             0        141           9102   \n",
       "192.168.102.10      29046       1484             0        149           9540   \n",
       "\n",
       "                resp_pkts  resp_ip_bytes  delete       PCR  \n",
       "id.orig_h                                                   \n",
       "192.168.1.10           86          11720     0.0 -0.339658  \n",
       "192.168.10.10         217          28425     0.0 -0.342924  \n",
       "192.168.100.10        205          25392     0.0 -0.293399  \n",
       "192.168.101.10        126          13967     0.0 -0.210889  \n",
       "192.168.102.10        149          19689     0.0 -0.347224  "
      ]
     },
     "execution_count": 64,
     "metadata": {},
     "output_type": "execute_result"
    }
   ],
   "source": [
    "df = df.groupby('id.orig_h').sum()\n",
    "\n",
    "df['PCR'] = (df['orig_ip_bytes'] - df['resp_ip_bytes'])/(df['orig_ip_bytes'] + df['resp_ip_bytes'])\n",
    "\n",
    "df.head()"
   ]
  },
  {
   "cell_type": "markdown",
   "metadata": {},
   "source": [
    "## Plotting Timeseries\n",
    "Plots the timeseries vs PCR values to visually inspect for trends."
   ]
  },
  {
   "cell_type": "code",
   "execution_count": 65,
   "metadata": {},
   "outputs": [
    {
     "data": {
      "text/plain": [
       "<matplotlib.axes._subplots.AxesSubplot at 0x124df1128>"
      ]
     },
     "execution_count": 65,
     "metadata": {},
     "output_type": "execute_result"
    },
    {
     "data": {
      "image/png": "[encoded data removed]",
      "text/plain": [
       "<Figure size 1080x720 with 1 Axes>"
      ]
     },
     "metadata": {
      "needs_background": "light"
     },
     "output_type": "display_data"
    }
   ],
   "source": [
    "df.plot.bar(y='PCR', figsize=(15,10), title=\"Producer/Consumer Ratio across IPs\")"
   ]
  }
 ],
 "metadata": {
  "kernelspec": {
   "display_name": "Python 3",
   "language": "python",
   "name": "python3"
  },
  "language_info": {
   "codemirror_mode": {
    "name": "ipython",
    "version": 3
   },
   "file_extension": ".py",
   "mimetype": "text/x-python",
   "name": "python",
   "nbconvert_exporter": "python",
   "pygments_lexer": "ipython3",
   "version": "3.6.5"
  }
 },
 "nbformat": 4,
 "nbformat_minor": 2
}
